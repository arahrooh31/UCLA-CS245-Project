{
 "cells": [
  {
   "cell_type": "code",
   "execution_count": null,
   "metadata": {},
   "outputs": [],
   "source": [
    "import pandas as pd\n",
    "import json\n",
    "%config Completer.use_jedi = False"
   ]
  },
  {
   "cell_type": "code",
   "execution_count": null,
   "metadata": {},
   "outputs": [],
   "source": [
    "c_a = json.load(open('county_adjacency.json'))\n",
    "c_a"
   ]
  },
  {
   "cell_type": "code",
   "execution_count": null,
   "metadata": {},
   "outputs": [],
   "source": [
    "id_county = {} \n",
    "for county in c_a['Counties']:\n",
    "    county_n = county['Name']\n",
    "    if not county_n.endswith(' PR') and not county_n.endswith(', AS') and not county_n.endswith(', MP') and not county_n.endswith(', VI'):\n",
    "        ID = int(county['Id'])\n",
    "        id_county[ID] = county_n\n",
    "    \n",
    "id_code = {}\n",
    "for county in c_a['Counties']:\n",
    "    county_n = county['Name']\n",
    "    if not county_n.endswith(' PR') and not county_n.endswith(', AS') and not county_n.endswith(', MP') and not county_n.endswith(', VI') and not county_n.endswith(', GU'):\n",
    "        code = county['Zip']\n",
    "        if code.startswith('0'):\n",
    "            code = code[1:]\n",
    "        code = int(code)\n",
    "        ID = int(county['Id'])\n",
    "        id_code[ID] = code\n",
    "    \n",
    "code_codes = {}\n",
    "for county in c_a['Counties']:\n",
    "    county_n = county['Name']\n",
    "    if not county_n.endswith(' PR') and not county_n.endswith(', AS') and not county_n.endswith(', MP') and not county_n.endswith(', VI') and not county_n.endswith(', GU'):\n",
    "        code = int(county['Zip'])\n",
    "        codes = []\n",
    "        ids = county['Neighbors']\n",
    "        for ID in ids:\n",
    "            codes.append(id_code[ID])\n",
    "        code_codes[code] = codes\n",
    "\n",
    "county_counties = {}\n",
    "for county in c_a['Counties']:\n",
    "    county_n = county['Name']#.split(',')[0]\n",
    "    if not county_n.endswith(' PR') and not county_n.endswith(', AS') and not county_n.endswith(', MP') and not county_n.endswith(', VI') and not county_n.endswith(', GU'):\n",
    "        counties_n = []\n",
    "        ids = county['Neighbors']\n",
    "        for ID in ids:\n",
    "            counties_n.append(id_county[ID])\n",
    "        county_counties[county_n] = counties_n\n",
    "county_counties"
   ]
  },
  {
   "cell_type": "code",
   "execution_count": null,
   "metadata": {},
   "outputs": [],
   "source": [
    "county_counties['Washington DC'] = county_counties['District of Columbia, DC']\n",
    "del county_counties['District of Columbia, DC']"
   ]
  },
  {
   "cell_type": "code",
   "execution_count": null,
   "metadata": {},
   "outputs": [],
   "source": [
    "len(code_codes)"
   ]
  },
  {
   "cell_type": "code",
   "execution_count": null,
   "metadata": {},
   "outputs": [],
   "source": [
    "len(county_counties)"
   ]
  },
  {
   "cell_type": "code",
   "execution_count": null,
   "metadata": {},
   "outputs": [],
   "source": [
    "with open('countycodes_border.json','w') as j:\n",
    "    json.dump(code_codes, j)"
   ]
  }
 ],
 "metadata": {
  "kernelspec": {
   "display_name": "Python 3",
   "language": "python",
   "name": "python3"
  },
  "language_info": {
   "codemirror_mode": {
    "name": "ipython",
    "version": 3
   },
   "file_extension": ".py",
   "mimetype": "text/x-python",
   "name": "python",
   "nbconvert_exporter": "python",
   "pygments_lexer": "ipython3",
   "version": "3.6.10"
  }
 },
 "nbformat": 4,
 "nbformat_minor": 4
}
